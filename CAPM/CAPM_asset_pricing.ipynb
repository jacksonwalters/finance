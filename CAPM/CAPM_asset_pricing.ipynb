{
 "cells": [
  {
   "cell_type": "code",
   "execution_count": 2,
   "id": "ba7d774a-655e-45aa-925c-c70a7e66f1f2",
   "metadata": {},
   "outputs": [],
   "source": [
    "class CAPM:\n",
    "    def __init__(self, risk_free_rate, expected_market_return):\n",
    "        self.risk_free_rate = risk_free_rate\n",
    "        self.expected_market_return = expected_market_return\n",
    "\n",
    "    def calculate_expected_return(self, beta):\n",
    "        \"\"\"Calculate the expected return using the CAPM formula.\"\"\"\n",
    "        market_risk_premium = self.expected_market_return - self.risk_free_rate\n",
    "        expected_return = self.risk_free_rate + beta * market_risk_premium\n",
    "        return expected_return"
   ]
  },
  {
   "cell_type": "code",
   "execution_count": 3,
   "id": "3723dcb0-7663-412f-80ce-0100a992a49f",
   "metadata": {},
   "outputs": [
    {
     "name": "stdout",
     "output_type": "stream",
     "text": [
      "Expected Return: 9.00%\n"
     ]
    }
   ],
   "source": [
    "# Inputs\n",
    "risk_free_rate = 0.03  # 3%\n",
    "expected_market_return = 0.08  # 8%\n",
    "    \n",
    "# Create CAPM instance\n",
    "capm_model = CAPM(risk_free_rate, expected_market_return)\n",
    "    \n",
    "# Example asset beta\n",
    "asset_beta = 1.2  # Asset with higher risk than the market\n",
    "    \n",
    "# Calculate expected return\n",
    "expected_return = capm_model.calculate_expected_return(asset_beta)\n",
    "    \n",
    "print(f\"Expected Return: {expected_return:.2%}\")"
   ]
  },
  {
   "cell_type": "code",
   "execution_count": null,
   "id": "ed1c3ade-7067-49a7-ad31-ba91f151e7b9",
   "metadata": {},
   "outputs": [],
   "source": []
  }
 ],
 "metadata": {
  "kernelspec": {
   "display_name": "Python 3 (ipykernel)",
   "language": "python",
   "name": "python3"
  },
  "language_info": {
   "codemirror_mode": {
    "name": "ipython",
    "version": 3
   },
   "file_extension": ".py",
   "mimetype": "text/x-python",
   "name": "python",
   "nbconvert_exporter": "python",
   "pygments_lexer": "ipython3",
   "version": "3.10.0"
  }
 },
 "nbformat": 4,
 "nbformat_minor": 5
}
