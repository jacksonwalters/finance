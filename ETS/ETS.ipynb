{
 "cells": [
  {
   "cell_type": "code",
   "execution_count": 1,
   "id": "571d70e9-b289-4739-985c-608cce820aa9",
   "metadata": {},
   "outputs": [],
   "source": [
    "import yfinance as yf\n",
    "import pandas as pd\n",
    "import statsmodels.api as sm\n",
    "import matplotlib.pyplot as plt"
   ]
  },
  {
   "cell_type": "code",
   "execution_count": 2,
   "id": "3196ca6f-8638-491d-9321-845785a2eaac",
   "metadata": {},
   "outputs": [],
   "source": [
    "#ignore convergence warnings\n",
    "import warnings\n",
    "from statsmodels.tools.sm_exceptions import ConvergenceWarning\n",
    "warnings.simplefilter('ignore', ConvergenceWarning)"
   ]
  },
  {
   "cell_type": "code",
   "execution_count": 3,
   "id": "57469fd9-f683-44c3-8874-866345a7d71b",
   "metadata": {},
   "outputs": [
    {
     "name": "stderr",
     "output_type": "stream",
     "text": [
      "[*********************100%***********************]  1 of 1 completed"
     ]
    },
    {
     "name": "stdout",
     "output_type": "stream",
     "text": [
      "                 Open       High        Low      Close  Adj Close     Volume\n",
      "Date                                                                        \n",
      "2018-01-02  42.540001  43.075001  42.314999  43.064999  40.568943  102223600\n",
      "2018-01-03  43.132500  43.637501  42.990002  43.057499  40.561863  118071600\n",
      "2018-01-04  43.134998  43.367500  43.020000  43.257500  40.750271   89738400\n",
      "2018-01-05  43.360001  43.842499  43.262501  43.750000  41.214230   94640000\n",
      "2018-01-08  43.587502  43.902500  43.482498  43.587502  41.061142   82271200\n"
     ]
    },
    {
     "name": "stderr",
     "output_type": "stream",
     "text": [
      "\n"
     ]
    }
   ],
   "source": [
    "# Download stock data for Apple (AAPL)\n",
    "ticker = 'AAPL'\n",
    "data = yf.download(ticker, start='2018-01-01', end='2023-01-01')\n",
    "\n",
    "# Preview the data\n",
    "print(data.head())"
   ]
  },
  {
   "cell_type": "code",
   "execution_count": 4,
   "id": "ca38caa0-8e4e-454c-b8c6-c8db53e5a0e8",
   "metadata": {},
   "outputs": [],
   "source": [
    "# Use the 'Close' prices for the model\n",
    "close_prices = data['Close']"
   ]
  },
  {
   "cell_type": "code",
   "execution_count": 5,
   "id": "65328c80-b20a-4fc4-846f-5fbae39b42c0",
   "metadata": {},
   "outputs": [],
   "source": [
    "# Split the data into training and testing sets\n",
    "train = close_prices[:int(0.8 * len(close_prices))]\n",
    "test = close_prices[int(0.8 * len(close_prices)):]"
   ]
  },
  {
   "cell_type": "code",
   "execution_count": 6,
   "id": "74121d60-c76f-4f49-8bb7-961db1777a7e",
   "metadata": {},
   "outputs": [],
   "source": [
    "# After splitting into train and test, set frequency for the training index\n",
    "train.index = pd.date_range(start=train.index[0], periods=len(train), freq='B')"
   ]
  },
  {
   "cell_type": "code",
   "execution_count": 7,
   "id": "45083111-393e-4bd5-ad54-a8478268ac93",
   "metadata": {},
   "outputs": [],
   "source": [
    "ets_model = sm.tsa.ExponentialSmoothing(\n",
    "    train, \n",
    "    trend='add', \n",
    "    seasonal='add', \n",
    "    seasonal_periods=365,\n",
    "    initialization_method='estimated'  # or 'heuristic'\n",
    ").fit(optimized=True)"
   ]
  },
  {
   "cell_type": "code",
   "execution_count": 8,
   "id": "196fbebe-9dd6-4142-9f72-d911cce249f7",
   "metadata": {},
   "outputs": [],
   "source": [
    "# Forecast the test period\n",
    "forecast_steps = len(test)\n",
    "forecast = ets_model.forecast(steps=forecast_steps)\n",
    "forecast_index = pd.date_range(start=train.index[-1] + pd.Timedelta(days=1), periods=forecast_steps, freq='B')\n",
    "forecast = pd.Series(forecast, index=forecast_index)"
   ]
  },
  {
   "cell_type": "code",
   "execution_count": null,
   "id": "f74fd310-07a6-429a-ace8-a105ed7efcaa",
   "metadata": {},
   "outputs": [],
   "source": []
  }
 ],
 "metadata": {
  "kernelspec": {
   "display_name": "finance",
   "language": "python",
   "name": "finance"
  },
  "language_info": {
   "codemirror_mode": {
    "name": "ipython",
    "version": 3
   },
   "file_extension": ".py",
   "mimetype": "text/x-python",
   "name": "python",
   "nbconvert_exporter": "python",
   "pygments_lexer": "ipython3",
   "version": "3.10.0"
  }
 },
 "nbformat": 4,
 "nbformat_minor": 5
}
