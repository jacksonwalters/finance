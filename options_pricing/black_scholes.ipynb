{
 "cells": [
  {
   "cell_type": "code",
   "execution_count": null,
   "id": "01730259-076d-4eb2-9a0f-38efbd9206c7",
   "metadata": {},
   "outputs": [],
   "source": []
  }
 ],
 "metadata": {
  "kernelspec": {
   "display_name": "",
   "name": ""
  },
  "language_info": {
   "name": ""
  }
 },
 "nbformat": 4,
 "nbformat_minor": 5
}
