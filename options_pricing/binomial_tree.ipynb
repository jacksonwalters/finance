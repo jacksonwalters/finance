{
 "cells": [
  {
   "cell_type": "code",
   "execution_count": 1,
   "id": "1763cc3a-e94f-4cab-b151-ed9944754e9a",
   "metadata": {},
   "outputs": [
    {
     "name": "stdout",
     "output_type": "stream",
     "text": [
      "European Call Option Price: 10.43\n",
      "European Put Option Price: 5.55\n",
      "American Call Option Price: 10.43\n",
      "American Put Option Price: 6.08\n"
     ]
    }
   ],
   "source": [
    "import numpy as np\n",
    "\n",
    "# Binomial Tree Model for European and American Options\n",
    "def binomial_tree(S, K, T, r, sigma, N, option_type=\"call\", is_american=False):\n",
    "    \"\"\"\n",
    "    S: Current stock price\n",
    "    K: Strike price\n",
    "    T: Time to expiration (in years)\n",
    "    r: Risk-free interest rate\n",
    "    sigma: Volatility of the underlying asset\n",
    "    N: Number of time steps in the binomial tree\n",
    "    option_type: \"call\" or \"put\"\n",
    "    is_american: If True, allow early exercise (American option); else, European option\n",
    "    \"\"\"\n",
    "    \n",
    "    # Calculate parameters\n",
    "    dt = T / N  # Time step\n",
    "    u = np.exp(sigma * np.sqrt(dt))  # Up movement factor\n",
    "    d = 1 / u  # Down movement factor\n",
    "    p = (np.exp(r * dt) - d) / (u - d)  # Risk-neutral probability of up movement\n",
    "    \n",
    "    # Initialize stock prices at maturity\n",
    "    stock_prices = np.zeros(N + 1)\n",
    "    option_values = np.zeros(N + 1)\n",
    "    \n",
    "    # Stock prices at expiration\n",
    "    for i in range(N + 1):\n",
    "        stock_prices[i] = S * (u ** i) * (d ** (N - i))\n",
    "    \n",
    "    # Option values at expiration\n",
    "    if option_type == \"call\":\n",
    "        option_values = np.maximum(stock_prices - K, 0)\n",
    "    elif option_type == \"put\":\n",
    "        option_values = np.maximum(K - stock_prices, 0)\n",
    "    \n",
    "    # Backward induction through the tree\n",
    "    for j in range(N - 1, -1, -1):\n",
    "        for i in range(j + 1):\n",
    "            option_values[i] = np.exp(-r * dt) * (p * option_values[i + 1] + (1 - p) * option_values[i])\n",
    "            \n",
    "            if is_american:\n",
    "                stock_price = S * (u ** i) * (d ** (j - i))\n",
    "                if option_type == \"call\":\n",
    "                    option_values[i] = np.maximum(option_values[i], stock_price - K)\n",
    "                elif option_type == \"put\":\n",
    "                    option_values[i] = np.maximum(option_values[i], K - stock_price)\n",
    "    \n",
    "    return option_values[0]\n",
    "\n",
    "# Parameters\n",
    "S = 100   # Current stock price\n",
    "K = 100   # Strike price\n",
    "T = 1     # Time to expiration (in years)\n",
    "r = 0.05  # Risk-free interest rate\n",
    "sigma = 0.2  # Volatility (20%)\n",
    "N = 100   # Number of time steps\n",
    "\n",
    "# Calculate the option prices for European and American options\n",
    "european_call_price = binomial_tree(S, K, T, r, sigma, N, option_type=\"call\", is_american=False)\n",
    "european_put_price = binomial_tree(S, K, T, r, sigma, N, option_type=\"put\", is_american=False)\n",
    "\n",
    "american_call_price = binomial_tree(S, K, T, r, sigma, N, option_type=\"call\", is_american=True)\n",
    "american_put_price = binomial_tree(S, K, T, r, sigma, N, option_type=\"put\", is_american=True)\n",
    "\n",
    "print(f\"European Call Option Price: {european_call_price:.2f}\")\n",
    "print(f\"European Put Option Price: {european_put_price:.2f}\")\n",
    "print(f\"American Call Option Price: {american_call_price:.2f}\")\n",
    "print(f\"American Put Option Price: {american_put_price:.2f}\")\n"
   ]
  },
  {
   "cell_type": "code",
   "execution_count": null,
   "id": "7cd5ac13-e9f6-45fc-a800-5265a938afed",
   "metadata": {},
   "outputs": [],
   "source": []
  }
 ],
 "metadata": {
  "kernelspec": {
   "display_name": "Python 3 (ipykernel)",
   "language": "python",
   "name": "python3"
  },
  "language_info": {
   "codemirror_mode": {
    "name": "ipython",
    "version": 3
   },
   "file_extension": ".py",
   "mimetype": "text/x-python",
   "name": "python",
   "nbconvert_exporter": "python",
   "pygments_lexer": "ipython3",
   "version": "3.10.0"
  }
 },
 "nbformat": 4,
 "nbformat_minor": 5
}
